{
 "cells": [
  {
   "cell_type": "markdown",
   "metadata": {},
   "source": [
    "#### Problem 1\n",
    "What exactly is a feature?\n",
    "\n",
    "Answer:<br>\n",
    "Feature suggests an outstanding or marked property that attracts attention: Complete harmony was a feature of the convention. Characteristic means a distinguishing mark or quality (or one of such) always associated in one's mind with a particular person or thing: Defiance is one of his characteristics."
   ]
  },
  {
   "cell_type": "markdown",
   "metadata": {},
   "source": [
    "#### Problem 2\n",
    "For a top edge detector, write out the convolutional kernel matrix.\n",
    "\n",
    "Answer:<br>\n",
    "For top edge detector the convolutional kernel matrix is \n",
    "[[\n"
   ]
  },
  {
   "cell_type": "markdown",
   "metadata": {},
   "source": [
    "#### Problem 3\n",
    "Describe the mathematical operation that a 3x3 kernel performs on a single pixel in an image.\n",
    "\n",
    "Answer:<br>\n",
    "For a 3X3 kernel, it takes 3X3 from the image and then makes addition of multiplication of each element. For example: \n",
    "[[1,2,3],[3,4,5],[5,4,3]] X [[1,0,1],[0,0,0],[0,-1,0]] = [1x1 + 2x0 + 3x1 + 3x0 + 4x0 + 5x0 + 5x0 + 4x-1 + 3x0] = [0]"
   ]
  },
  {
   "cell_type": "markdown",
   "metadata": {},
   "source": [
    "#### Problem 4\n",
    "What is the significance of a convolutional kernel added to a 3x3 matrix of zeroes?\n",
    "\n",
    "Answer:<br>\n",
    "The image will become black."
   ]
  },
  {
   "cell_type": "markdown",
   "metadata": {},
   "source": [
    "#### Problem 5\n",
    "What exactly is padding?\n",
    "\n",
    "Answer:<br>\n",
    "Padding is a term relevant to convolutional neural networks as it refers to the amount of pixels added to an image when it is being processed by the kernel of a CNN. For example, if the padding in a CNN is set to zero, then every pixel value that is added will be of value zero."
   ]
  },
  {
   "cell_type": "markdown",
   "metadata": {},
   "source": [
    "#### Problem 6\n",
    "What is the concept of stride?\n",
    "\n",
    "Answer:<br>\n",
    "Stride is a parameter of the neural network's filter that modifies the amount of movement over the image or video. For example, if a neural network's stride is set to 1, the filter will move one pixel, or unit, at a time."
   ]
  },
  {
   "cell_type": "markdown",
   "metadata": {},
   "source": [
    "#### Problem 7\n",
    "What are the shapes of PyTorch&#39;s 2D convolution&#39;s input and weight parameters?\n",
    "\n",
    "Answer:<br>\n",
    "If the input shape of convolution 2D is nn.Conv2d(1,3, stride = 1, kernel_size=(4,5)). then the weight shape will be [3,1,4,5] i.e 3 filter each having 4X5 matrix."
   ]
  },
  {
   "cell_type": "markdown",
   "metadata": {},
   "source": [
    "#### Problem 8\n",
    "What exactly is a channel?\n",
    "\n",
    "Answer:<br>\n",
    "There are three channels in an RGB image- red, green and blue. The color space where red, green and blue channels represent images is called RGB color space. In OpenCV, BGR sequence is used instead of RGB. This means the first channel is blue, the second channel is green, and the third channel is red."
   ]
  },
  {
   "cell_type": "markdown",
   "metadata": {},
   "source": [
    "#### Problem 9\n",
    "Explain relationship between matrix multiplication and a convolution?\n",
    "\n",
    "Answer:<br>\n",
    "It is well- known that 2D convolution can be implemented using matrix multiplication by converting one of the input matrices to a Toeplitz matrix. This involves replicating image pixels multi- ple times across different matrix columns."
   ]
  }
 ],
 "metadata": {
  "kernelspec": {
   "display_name": "Python 3",
   "language": "python",
   "name": "python3"
  },
  "language_info": {
   "codemirror_mode": {
    "name": "ipython",
    "version": 3
   },
   "file_extension": ".py",
   "mimetype": "text/x-python",
   "name": "python",
   "nbconvert_exporter": "python",
   "pygments_lexer": "ipython3",
   "version": "3.7.7"
  }
 },
 "nbformat": 4,
 "nbformat_minor": 4
}
